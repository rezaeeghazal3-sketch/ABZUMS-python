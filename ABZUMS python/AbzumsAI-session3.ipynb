{
 "cells": [
  {
   "cell_type": "markdown",
   "id": "971de089",
   "metadata": {},
   "source": [
    "# Assignment 3: Functions, Lambda, Exception Handling\n",
    "\n",
    "**Course:** AbzumsAI Programming 1404\n",
    "\n",
    "**Instructor:** Mr. Ali Mohammadzadeh Shabestari\n",
    "\n",
    "**Date Assigned:** June 28, 2025\n",
    "\n",
    "**Deadline:** July 2, 2025"
   ]
  },
  {
   "cell_type": "markdown",
   "id": "08247c0f",
   "metadata": {},
   "source": [
    "## Learning Objectives\n",
    "\n",
    "By the end of this notebook, you will:\n",
    "\n",
    "- Define and call functions with parameters and return values in Python.\n",
    "- Use default parameters and understand how functions improve code reusability.\n",
    "- Create and apply anonymous functions using lambda syntax.\n",
    "- Use lambda with built-in functions like `map()` and `filter()` to process data concisely.\n",
    "- Handle runtime errors gracefully using `try` and `except` blocks.\n",
    "- Write robust programs that validate user input and prevent crashes due to exceptions.\n",
    "\n",
    "---"
   ]
  },
  {
   "cell_type": "markdown",
   "id": "20adfbee",
   "metadata": {},
   "source": [
    "# Cell 0: Student Information\n",
    "\n",
    "### Please enter your details for grading purposes:\n",
    "\n",
    "Your Name: \n",
    "\n",
    "Your Email:\n",
    "\n",
    "Your GtiHub Link:"
   ]
  },
  {
   "cell_type": "markdown",
   "id": "f52707df",
   "metadata": {},
   "source": [
    "## Cell 1: Basic Function Definition"
   ]
  },
  {
   "cell_type": "markdown",
   "id": "0e9b1c2c",
   "metadata": {},
   "source": [
    "Write a function called `greet` that\n",
    "- Takes a name as input, and prints \"Hello, `name`!\"\n"
   ]
  },
  {
   "cell_type": "code",
   "execution_count": 9,
   "id": "e32c723b",
   "metadata": {},
   "outputs": [],
   "source": [
    "# write your code here\n",
    "def greet(name):\n",
    "    print(f\"Hello, {name}!\")\n",
    "\n"
   ]
  },
  {
   "cell_type": "markdown",
   "id": "343fbe55",
   "metadata": {},
   "source": [
    "## Cell 2: Function with Return Value"
   ]
  },
  {
   "cell_type": "markdown",
   "id": "ec478dc6",
   "metadata": {},
   "source": [
    "Write a function `analyze_numbers` that takes two numbers as input. The function should:\n",
    "- Print both numbers\n",
    "- Calculate their sum\n",
    "- Print whether the sum is even or odd\n",
    "- Return the sum\n",
    "\n"
   ]
  },
  {
   "cell_type": "code",
   "execution_count": 10,
   "id": "8061cdba",
   "metadata": {},
   "outputs": [],
   "source": [
    "# write your code here\n",
    "def analyze_numbers(a, b):\n",
    "    print(f\"Number 1: {a}\")\n",
    "    print(f\"Number 2: {b}\")\n",
    "    total = a + b\n",
    "    print(f\"Sum: {total}\")\n",
    "    if total % 2 == 0:\n",
    "        print(\"The sum is even\")\n",
    "    else:\n",
    "        print(\"The sum is odd\")\n",
    "    return total"
   ]
  },
  {
   "cell_type": "markdown",
   "id": "0711bafc",
   "metadata": {},
   "source": [
    "## Cell 3: Fucntion with Multiple Return Value"
   ]
  },
  {
   "cell_type": "markdown",
   "id": "c1532d72",
   "metadata": {},
   "source": [
    "Write a function called find_a_b that takes two numbers as input:\n",
    "- The sum of two unknown numbers (x + y)\n",
    "- The difference of those same two numbers (x - y)\n",
    "\n",
    "The function should:\n",
    "- Calculate and return the original numbers x and y in order (x, y)\n",
    "- Assume that x > y"
   ]
  },
  {
   "cell_type": "code",
   "execution_count": null,
   "id": "2fc06915",
   "metadata": {},
   "outputs": [],
   "source": [
    "# write your code here\n",
    "def find_a_b(sum_val, diff_val):\n",
    "    x = (sum_val + diff_val) / 2\n",
    "    y = (sum_val - diff_val) / 2\n",
    "    return x, y"
   ]
  },
  {
   "cell_type": "markdown",
   "id": "884813ad",
   "metadata": {},
   "source": [
    "## Cell 4: Function with Default Argument"
   ]
  },
  {
   "cell_type": "markdown",
   "id": "a37e7992",
   "metadata": {},
   "source": [
    "Read the function below carefully.\n",
    "- In your own words, explain what this function does step by step.\n",
    "- Write your explanation in the following cell 👇"
   ]
  },
  {
   "cell_type": "markdown",
   "id": "f09b013a",
   "metadata": {},
   "source": [
    "🌱 Your Answer:"
   ]
  },
  {
   "cell_type": "code",
   "execution_count": null,
   "id": "7c224bb3",
   "metadata": {},
   "outputs": [
    {
     "name": "stdout",
     "output_type": "stream",
     "text": [
      "Original price: $100\n",
      "Discount (10%): -$10.0\n",
      "Price after discount: $90.0\n",
      "Tax (5%): +$4.5\n",
      "Final price: $94.5\n"
     ]
    },
    {
     "data": {
      "text/plain": [
       "94.5"
      ]
     },
     "execution_count": 5,
     "metadata": {},
     "output_type": "execute_result"
    }
   ],
   "source": [
    "def calculate_discounted_price(price, discount=10, tax=5):\n",
    "    print(f\"Original price: ${price}\")\n",
    "    \n",
    "    discount_amount = price * (discount / 100)\n",
    "    price_after_discount = price - discount_amount\n",
    "    print(f\"Discount ({discount}%): -${discount_amount}\")\n",
    "    print(f\"Price after discount: ${price_after_discount}\")\n",
    "    \n",
    "    tax_amount = price_after_discount * (tax / 100)\n",
    "    final_price = price_after_discount + tax_amount\n",
    "    print(f\"Tax ({tax}%): +${tax_amount}\")\n",
    "    print(f\"Final price: ${final_price}\")\n",
    "    \n",
    "    return round(final_price, 2)\n",
    "\n",
    "# Example usage:\n",
    "calculate_discounted_price(100)"
   ]
  },
  {
   "cell_type": "markdown",
   "id": "f52389fd",
   "metadata": {},
   "source": [
    "## Cell 5: Lambda with `map()`"
   ]
  },
  {
   "cell_type": "markdown",
   "id": "9e6be806",
   "metadata": {},
   "source": [
    "You are given a list of full names in the format \"First Last\".\n",
    "- Use `map()` and a `lambda` function to extract only the first names from the list."
   ]
  },
  {
   "cell_type": "code",
   "execution_count": 11,
   "id": "ee4c20c3",
   "metadata": {},
   "outputs": [
    {
     "name": "stdout",
     "output_type": "stream",
     "text": [
      "['Alexander', 'Elizabeth', 'Edward', 'William']\n"
     ]
    }
   ],
   "source": [
    "full_names = [\"Alexander Fleming\", \"Elizabeth Blackwell\", \"Edward Jenner\", \"William Osler\"]\n",
    "\n",
    "# write your code here\n",
    "full_names = [\"Alexander Fleming\", \"Elizabeth Blackwell\", \"Edward Jenner\", \"William Osler\"]\n",
    "\n",
    "first_names = list(map(lambda name: name.split()[0], full_names))\n",
    "print(first_names)"
   ]
  },
  {
   "cell_type": "markdown",
   "id": "11355cd8",
   "metadata": {},
   "source": [
    "## Cell 6: Lambda with `filter()`"
   ]
  },
  {
   "cell_type": "markdown",
   "id": "3a9dd04a",
   "metadata": {},
   "source": [
    "You are given a list of user dictionaries. Each user has a name, age, and an \"active\" status.\n",
    "Use `filter()` and a `lambda` function to select users who:\n",
    "- Are at least 18 years old\n",
    "- Have 'active' set to True\n",
    "\n",
    "💡 Make use of `and` operator"
   ]
  },
  {
   "cell_type": "code",
   "execution_count": 12,
   "id": "4dd5903d",
   "metadata": {},
   "outputs": [
    {
     "name": "stdout",
     "output_type": "stream",
     "text": [
      "[{'name': 'Reza', 'age': 19, 'active': True}, {'name': 'Lina', 'age': 25, 'active': True}]\n"
     ]
    }
   ],
   "source": [
    "users = [\n",
    "    {\"name\": \"Ali\", \"age\": 17, \"active\": True},\n",
    "    {\"name\": \"Sara\", \"age\": 22, \"active\": False},\n",
    "    {\"name\": \"Reza\", \"age\": 19, \"active\": True},\n",
    "    {\"name\": \"Lina\", \"age\": 25, \"active\": True},\n",
    "    {\"name\": \"Mona\", \"age\": 16, \"active\": True},\n",
    "    {\"name\": \"Javad\", \"age\": 20, \"active\": False},\n",
    "]\n",
    "\n",
    "# write your code here\n",
    "active_adults = list(filter(lambda user: user[\"age\"] >= 18 and user[\"active\"], users))\n",
    "print(active_adults)\n"
   ]
  },
  {
   "cell_type": "markdown",
   "id": "3c88871f",
   "metadata": {},
   "source": [
    "## Cell 7: Exception Handling"
   ]
  },
  {
   "cell_type": "markdown",
   "id": "70f56881",
   "metadata": {},
   "source": [
    "Carefully read the following code.\n",
    "- Do NOT run or modify it yet.\n",
    "- In the next cell, explain in your own words what this program does, step by step. 👇"
   ]
  },
  {
   "cell_type": "markdown",
   "id": "4e9e5779",
   "metadata": {},
   "source": [
    "🌱 Your Answer:"
   ]
  },
  {
   "cell_type": "code",
   "execution_count": 8,
   "id": "42bbaecd",
   "metadata": {},
   "outputs": [
    {
     "name": "stdout",
     "output_type": "stream",
     "text": [
      "📘 Thank you for using the divider.\n",
      "\n"
     ]
    },
    {
     "ename": "KeyboardInterrupt",
     "evalue": "Interrupted by user",
     "output_type": "error",
     "traceback": [
      "\u001b[31m---------------------------------------------------------------------------\u001b[39m",
      "\u001b[31mKeyboardInterrupt\u001b[39m                         Traceback (most recent call last)",
      "\u001b[36mCell\u001b[39m\u001b[36m \u001b[39m\u001b[32mIn[8]\u001b[39m\u001b[32m, line 3\u001b[39m\n\u001b[32m      1\u001b[39m \u001b[38;5;28;01mwhile\u001b[39;00m \u001b[38;5;28;01mTrue\u001b[39;00m:\n\u001b[32m      2\u001b[39m     \u001b[38;5;28;01mtry\u001b[39;00m:\n\u001b[32m----> \u001b[39m\u001b[32m3\u001b[39m         numerator = \u001b[38;5;28mfloat\u001b[39m(\u001b[38;5;28;43minput\u001b[39;49m\u001b[43m(\u001b[49m\u001b[33;43m\"\u001b[39;49m\u001b[33;43mEnter the numerator: \u001b[39;49m\u001b[33;43m\"\u001b[39;49m\u001b[43m)\u001b[49m)\n\u001b[32m      4\u001b[39m         denominator = \u001b[38;5;28mfloat\u001b[39m(\u001b[38;5;28minput\u001b[39m(\u001b[33m\"\u001b[39m\u001b[33mEnter the denominator: \u001b[39m\u001b[33m\"\u001b[39m))\n\u001b[32m      6\u001b[39m         result = numerator / denominator\n",
      "\u001b[36mFile \u001b[39m\u001b[32m~\\AppData\\Roaming\\Python\\Python313\\site-packages\\ipykernel\\kernelbase.py:1282\u001b[39m, in \u001b[36mKernel.raw_input\u001b[39m\u001b[34m(self, prompt)\u001b[39m\n\u001b[32m   1280\u001b[39m     msg = \u001b[33m\"\u001b[39m\u001b[33mraw_input was called, but this frontend does not support input requests.\u001b[39m\u001b[33m\"\u001b[39m\n\u001b[32m   1281\u001b[39m     \u001b[38;5;28;01mraise\u001b[39;00m StdinNotImplementedError(msg)\n\u001b[32m-> \u001b[39m\u001b[32m1282\u001b[39m \u001b[38;5;28;01mreturn\u001b[39;00m \u001b[38;5;28;43mself\u001b[39;49m\u001b[43m.\u001b[49m\u001b[43m_input_request\u001b[49m\u001b[43m(\u001b[49m\n\u001b[32m   1283\u001b[39m \u001b[43m    \u001b[49m\u001b[38;5;28;43mstr\u001b[39;49m\u001b[43m(\u001b[49m\u001b[43mprompt\u001b[49m\u001b[43m)\u001b[49m\u001b[43m,\u001b[49m\n\u001b[32m   1284\u001b[39m \u001b[43m    \u001b[49m\u001b[38;5;28;43mself\u001b[39;49m\u001b[43m.\u001b[49m\u001b[43m_parent_ident\u001b[49m\u001b[43m[\u001b[49m\u001b[33;43m\"\u001b[39;49m\u001b[33;43mshell\u001b[39;49m\u001b[33;43m\"\u001b[39;49m\u001b[43m]\u001b[49m\u001b[43m,\u001b[49m\n\u001b[32m   1285\u001b[39m \u001b[43m    \u001b[49m\u001b[38;5;28;43mself\u001b[39;49m\u001b[43m.\u001b[49m\u001b[43mget_parent\u001b[49m\u001b[43m(\u001b[49m\u001b[33;43m\"\u001b[39;49m\u001b[33;43mshell\u001b[39;49m\u001b[33;43m\"\u001b[39;49m\u001b[43m)\u001b[49m\u001b[43m,\u001b[49m\n\u001b[32m   1286\u001b[39m \u001b[43m    \u001b[49m\u001b[43mpassword\u001b[49m\u001b[43m=\u001b[49m\u001b[38;5;28;43;01mFalse\u001b[39;49;00m\u001b[43m,\u001b[49m\n\u001b[32m   1287\u001b[39m \u001b[43m\u001b[49m\u001b[43m)\u001b[49m\n",
      "\u001b[36mFile \u001b[39m\u001b[32m~\\AppData\\Roaming\\Python\\Python313\\site-packages\\ipykernel\\kernelbase.py:1325\u001b[39m, in \u001b[36mKernel._input_request\u001b[39m\u001b[34m(self, prompt, ident, parent, password)\u001b[39m\n\u001b[32m   1322\u001b[39m \u001b[38;5;28;01mexcept\u001b[39;00m \u001b[38;5;167;01mKeyboardInterrupt\u001b[39;00m:\n\u001b[32m   1323\u001b[39m     \u001b[38;5;66;03m# re-raise KeyboardInterrupt, to truncate traceback\u001b[39;00m\n\u001b[32m   1324\u001b[39m     msg = \u001b[33m\"\u001b[39m\u001b[33mInterrupted by user\u001b[39m\u001b[33m\"\u001b[39m\n\u001b[32m-> \u001b[39m\u001b[32m1325\u001b[39m     \u001b[38;5;28;01mraise\u001b[39;00m \u001b[38;5;167;01mKeyboardInterrupt\u001b[39;00m(msg) \u001b[38;5;28;01mfrom\u001b[39;00m\u001b[38;5;250m \u001b[39m\u001b[38;5;28;01mNone\u001b[39;00m\n\u001b[32m   1326\u001b[39m \u001b[38;5;28;01mexcept\u001b[39;00m \u001b[38;5;167;01mException\u001b[39;00m:\n\u001b[32m   1327\u001b[39m     \u001b[38;5;28mself\u001b[39m.log.warning(\u001b[33m\"\u001b[39m\u001b[33mInvalid Message:\u001b[39m\u001b[33m\"\u001b[39m, exc_info=\u001b[38;5;28;01mTrue\u001b[39;00m)\n",
      "\u001b[31mKeyboardInterrupt\u001b[39m: Interrupted by user"
     ]
    }
   ],
   "source": [
    "while True:\n",
    "    try:\n",
    "        numerator = float(input(\"Enter the numerator: \"))\n",
    "        denominator = float(input(\"Enter the denominator: \"))\n",
    "\n",
    "        result = numerator / denominator\n",
    "    except ValueError:\n",
    "        print(\"⚠️ Please enter valid numeric values.\")\n",
    "        continue\n",
    "    except ZeroDivisionError:\n",
    "        print(\"⚠️ Denominator cannot be zero. Try again.\")\n",
    "        continue\n",
    "    else:\n",
    "        print(f\"✅ Result: {round(result, 3)}\")\n",
    "        break\n",
    "    finally:\n",
    "        print(\"📘 Thank you for using the divider.\\n\")"
   ]
  },
  {
   "cell_type": "code",
   "execution_count": null,
   "id": "19b05912",
   "metadata": {},
   "outputs": [],
   "source": [
    "\n",
    "#This program repeatedly asks the user to enter a numerator and a denominator.\n",
    "# It checks for invalid inputs (value error) and zero denominator (ZeroDivisionError).\n",
    "#If inputs are valid, it calculates and prints the division result.\n",
    "#The `finally` block always prints a thank you message."
   ]
  }
 ],
 "metadata": {
  "kernelspec": {
   "display_name": "Python 3",
   "language": "python",
   "name": "python3"
  },
  "language_info": {
   "codemirror_mode": {
    "name": "ipython",
    "version": 3
   },
   "file_extension": ".py",
   "mimetype": "text/x-python",
   "name": "python",
   "nbconvert_exporter": "python",
   "pygments_lexer": "ipython3",
   "version": "3.13.5"
  }
 },
 "nbformat": 4,
 "nbformat_minor": 5
}
