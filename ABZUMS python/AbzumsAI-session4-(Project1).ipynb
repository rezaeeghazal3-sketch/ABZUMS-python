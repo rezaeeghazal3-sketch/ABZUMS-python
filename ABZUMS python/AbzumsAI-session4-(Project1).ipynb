{
 "cells": [
  {
   "cell_type": "markdown",
   "id": "94db5993",
   "metadata": {},
   "source": [
    "# Assignment 4: Project 1\n",
    "\n",
    "**Course:** AbzumsAI Programming 1404\n",
    "\n",
    "**Instructor:** Mr. Ali Mohammadzadeh Shabestari\n",
    "\n",
    "**Date Assigned:** July 1, 2025\n",
    "\n",
    "**Deadline:** TBA"
   ]
  },
  {
   "cell_type": "markdown",
   "id": "33f31543",
   "metadata": {},
   "source": [
    "In this project, you will build a classic Tic Tac Toe game that runs in the terminal. Two players take turns choosing positions on a 3×3 grid, trying to get three of their marks (X or O) in a row, column, or diagonal. The game should announce a win, tie, or continue until one of those outcomes is reached.\n",
    "\n",
    "This project helps you apply and connect key Python concepts you’ve learned so far:\n",
    "- Working with lists to represent the game board\n",
    "- Using if/else conditions to check for valid moves and winning logic\n",
    "- Repeating the game flow with while loops\n",
    "- Organizing your program into reusable functions\n",
    "- Handling user input and basic error checking\n",
    "\n",
    "By the end, you’ll have a complete working game and a strong understanding of how to structure and build small Python programs."
   ]
  },
  {
   "cell_type": "markdown",
   "id": "ed63b194",
   "metadata": {},
   "source": [
    "## 🧩 Step 1: Initialize the Game Board\n",
    "- Create a list with 9 elements (strings like \\\"-\\\") to represent an empty board.\n",
    "- Use indices 0–8 to refer to board positions:"
   ]
  },
  {
   "cell_type": "raw",
   "id": "0a7b099d",
   "metadata": {},
   "source": [
    "0 | 1 | 2       1 | 2 | 3  \n",
    "3 | 4 | 5   =>  4 | 5 | 6  \n",
    "6 | 7 | 8       7 | 8 | 9  "
   ]
  },
  {
   "cell_type": "markdown",
   "id": "8ba574b2",
   "metadata": {},
   "source": [
    "## 🧩 Step 2: Display the Game Board\n",
    "Write a function to:\n",
    "- Print the board in a user-friendly format.\n",
    "- You can yuse the format in Step 1."
   ]
  },
  {
   "cell_type": "markdown",
   "id": "d6da3b87",
   "metadata": {},
   "source": [
    "## 🧩 Step 3: Define the Players\n",
    "\n",
    "Write a function to:\n",
    "- Ask Player 1 to choose a symbol: \"X\" or \"O\". (Ask with `input()`)\n",
    "- Assign the remaining symbol to Player 2.\n",
    "- Validate that the input is correct (only allow \"X\" or \"O\").\n",
    "\n",
    "💡 HINT: Use variables `player1`, `player2` and `current_player`."
   ]
  },
  {
   "cell_type": "markdown",
   "id": "d62adca2",
   "metadata": {},
   "source": [
    "## 🧩 Step 4: Create a Player Move Function\n",
    "\n",
    "Write a function to:\n",
    "- Ask the current player to choose a number from 1 to 9.\n",
    "- Convert it to the correct board index (subtract 1).\n",
    "- Check that the position is not already taken (`-`).\n",
    "- If valid, update the board with the player’s symbol.\n",
    "- Otherwise, ask again until a valid move is made.\n",
    "- NOTE: Inputs must be 1, 2, ..., 9 but real indices are 0, 1, ..., 8."
   ]
  },
  {
   "cell_type": "markdown",
   "id": "bffb8605",
   "metadata": {},
   "source": [
    "## 🧩 Step 5: Check for a Winner\n",
    "\n",
    "Write a function to check if the game has been won (after every move):\n",
    "- Rows: positions [0,1,2], [3,4,5], [6,7,8]\n",
    "- Columns: positions [0,3,6], [1,4,7], [2,5,8]\n",
    "- Diagonals: [0,4,8] and [2,4,6]\n",
    "\n",
    "Also consider Ties, when no `-` is left in board.\n",
    "\n",
    "💡 HINT: Check all mentioned states with `if/else`."
   ]
  },
  {
   "cell_type": "markdown",
   "id": "06fabdc9",
   "metadata": {},
   "source": [
    "## 🧩 Step 7: Flip the Current Player\n",
    "Write a function to:\n",
    "- After each valid move, switch `current_player` to the other player (\\\"X\\\" ↔ \\\"O\\\").\n",
    "- Use a simple if/else or ternary expression."
   ]
  },
  {
   "cell_type": "markdown",
   "id": "bcf28a04",
   "metadata": {},
   "source": [
    "## 🧩 Step 8: Loop Until the Game Ends\n",
    "Use a `while` loop to keep the game running until:\n",
    "- A player wins\n",
    "- It’s a tie"
   ]
  },
  {
   "cell_type": "raw",
   "id": "89959016",
   "metadata": {
    "vscode": {
     "languageId": "raw"
    }
   },
   "source": [
    "# Step 1: Initialize the Game Board\n",
    "board = [\"-\"] * 9\n",
    "\n",
    "# Step 2: Display the Game Board\n",
    "def display_board(board):\n",
    "    print(f\"{board[0]} | {board[1]} | {board[2]}\")\n",
    "    print(f\"{board[3]} | {board[4]} | {board[5]}\")\n",
    "    print(f\"{board[6]} | {board[7]} | {board[8]}\")\n",
    "\n",
    "# Step 3: Define the Players\n",
    "def choose_player_symbols():\n",
    "    player1 = \"\"\n",
    "    while player1 not in [\"X\", \"O\"]:\n",
    "        player1 = input(\"Player 1, choose your symbol (X or O): \").upper()\n",
    "    player2 = \"O\" if player1 == \"X\" else \"X\"\n",
    "    return player1, player2\n",
    "\n",
    "player1, player2 = choose_player_symbols()\n",
    "current_player = player1\n",
    "\n",
    "# Step 4: Create a Player Move Function\n",
    "def player_move(board, player):\n",
    "    while True:\n",
    "        try:\n",
    "            position = int(input(f\"{player}'s turn. Choose a position (1-9): \")) - 1\n",
    "            if position < 0 or position > 8:\n",
    "                print(\"Invalid input! Choose a number between 1 and 9.\")\n",
    "            elif board[position] != \"-\":\n",
    "                print(\"Position already taken. Choose another.\")\n",
    "            else:\n",
    "                board[position] = player\n",
    "                break\n",
    "        except ValueError:\n",
    "            print(\"Please enter a valid number.\")\n",
    "\n",
    "# Step 5: Check for a Winner\n",
    "def check_winner(board):\n",
    "    win_conditions = [\n",
    "        [0,1,2], [3,4,5], [6,7,8],\n",
    "        [0,3,6], [1,4,7], [2,5,8],\n",
    "        [0,4,8], [2,4,6]\n",
    "    ]\n",
    "    for condition in win_conditions:\n",
    "        if board[condition[0]] == board[condition[1]] == board[condition[2]] != \"-\":\n",
    "            return board[condition[0]]\n",
    "    if \"-\" not in board:\n",
    "        return \"Tie\"\n",
    "    return None\n",
    "\n",
    "# Step 7: Flip the Current Player\n",
    "def flip_player(current_player, player1, player2):\n",
    "    return player2 if current_player == player1 else player1\n",
    "\n",
    "# Step 8: Loop Until the Game Ends\n",
    "def play_game():\n",
    "    global current_player\n",
    "    game_over = False\n",
    "    while not game_over:\n",
    "        display_board(board)\n",
    "        player_move(board, current_player)\n",
    "        result = check_winner(board)\n",
    "        if result == \"Tie\":\n",
    "            display_board(board)\n",
    "            print(\"It's a tie!\")\n",
    "            game_over = True\n",
    "        elif result in [\"X\", \"O\"]:\n",
    "            display_board(board)\n",
    "            print(f\"Player {result} wins!\")\n",
    "            game_over = True\n",
    "        else:\n",
    "            current_player = flip_player(current_player, player1, player2)\n",
    "\n",
    "\n"
   ]
  }
 ],
 "metadata": {
  "kernelspec": {
   "display_name": "Python 3",
   "language": "python",
   "name": "python3"
  },
  "language_info": {
   "codemirror_mode": {
    "name": "ipython",
    "version": 3
   },
   "file_extension": ".py",
   "mimetype": "text/x-python",
   "name": "python",
   "nbconvert_exporter": "python",
   "pygments_lexer": "ipython3",
   "version": "3.13.5"
  }
 },
 "nbformat": 4,
 "nbformat_minor": 5
}
