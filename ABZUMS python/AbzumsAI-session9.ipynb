{
 "cells": [
  {
   "cell_type": "markdown",
   "id": "2a5b8c1d",
   "metadata": {},
   "source": [
    "# Assignment 6: Object-Oriented Programming\n",
    "\n",
    "**Course:** AbzumsAI Programming 1404\n",
    "\n",
    "**Instructor:** Mr. Ali Mohammadzadeh Shabestari\n",
    "\n",
    "**Date Assigned:** July 16, 2025\n",
    "\n",
    "**Deadline:** July 24, 2025"
   ]
  },
  {
   "cell_type": "markdown",
   "id": "c9f29d38",
   "metadata": {},
   "source": [
    "⚠️ This task is structured in separate cells, but you should combine all the code snippets into one Python script.\n",
    "\n",
    "⚠️ Make sure to create a `.py` file and include all your code in that single file."
   ]
  },
  {
   "cell_type": "markdown",
   "id": "e3f7a9c2",
   "metadata": {},
   "source": [
    "## 🔹 4.1 Bank Account System"
   ]
  },
  {
   "cell_type": "markdown",
   "id": "a1b2c3d4",
   "metadata": {},
   "source": [
    "### 🏦 Practical Program: Bank Account Management\n",
    "We'll build a complete bank account system demonstrating OOP concepts."
   ]
  },
  {
   "cell_type": "markdown",
   "id": "f8g7h6i5",
   "metadata": {},
   "source": [
    "### 📝 Task 1: Create the BankAccount Class\n",
    "Implement a `BankAccount` class with:\n",
    "1. Class attribute `bank_name` initialized to \"First National Bank\"\n",
    "2. `__init__` method that takes `account_holder` and `initial_balance` (default 0.0)\n",
    "3. Instance attributes for `account_holder`, `balance`, and `transactions` list\n",
    "\n",
    "**Template:**"
   ]
  },
  {
   "cell_type": "code",
   "execution_count": null,
   "id": "b5c9d8e7",
   "metadata": {},
   "outputs": [],
   "source": [
    "class BankAccount:\n",
    "    # Class attribute\n",
    "    bank_name = \"First National Bank\"\n",
    "    \n",
    "    def __init__(self, account_holder: str, initial_balance: float = 0.0):\n",
    "        # Initialize instance attributes\n",
    "        pass"
   ]
  },
  {
   "cell_type": "markdown",
   "id": "m2n3o4p5",
   "metadata": {},
   "source": [
    "### 📝 Task 2: Add Instance Methods\n",
    "Implement these methods:\n",
    "1. `deposit(amount)` - Add to balance if amount is valid\n",
    "2. `withdraw(amount)` - Subtract from balance if funds are available\n",
    "3. Record transactions in format \"Deposit: +$X\" or \"Withdrawal: -$X\"\n",
    "\n",
    "**Template:**"
   ]
  },
  {
   "cell_type": "code",
   "execution_count": null,
   "id": "q6r7s8t9",
   "metadata": {},
   "outputs": [],
   "source": [
    "    def deposit(self, amount: float) -> None:\n",
    "        # Add amount to balance if positive\n",
    "        # Record transaction\n",
    "        # Print confirmation/error\n",
    "        pass\n",
    "    \n",
    "    def withdraw(self, amount: float) -> None:\n",
    "        # Subtract amount if valid\n",
    "        # Record transaction\n",
    "        # Print confirmation/error\n",
    "        pass"
   ]
  },
  {
   "cell_type": "markdown",
   "id": "u1v2w3x4",
   "metadata": {},
   "source": [
    "### 📝 Task 3: Special and Class Methods\n",
    "1. Implement `__str__` to return \"Account Holder: X, Balance: $Y\"\n",
    "2. Add class method `change_bank_name(new_name)`\n",
    "3. Add static method `validate_amount(amount)` returns bool\n",
    "\n",
    "**Template:**"
   ]
  },
  {
   "cell_type": "code",
   "execution_count": null,
   "id": "y5z6a7b8",
   "metadata": {},
   "outputs": [],
   "source": [
    "    def __str__(self) -> str:\n",
    "        # Return formatted string\n",
    "        pass\n",
    "    \n",
    "    @classmethod\n",
    "    def change_bank_name(cls, new_name: str) -> None:\n",
    "        # Modify class attribute\n",
    "        pass\n",
    "    \n",
    "    @staticmethod\n",
    "    def validate_amount(amount: float) -> bool:\n",
    "        # Check if amount is positive\n",
    "        pass"
   ]
  },
  {
   "cell_type": "markdown",
   "id": "c3d4e5f6",
   "metadata": {},
   "source": [
    "### 📝 Task 4: Test Your Implementation\n",
    "1. Create two accounts\n",
    "2. Perform deposits/withdrawals\n",
    "3. Change bank name\n",
    "4. Print accounts and validate amounts\n",
    "\n",
    "**Expected Output Example:**\n",
    "```\n",
    "$200 deposited. New balance: $1200\n",
    "Invalid withdrawal amount\n",
    "Account Holder: Alice, Balance: $1200\n",
    "Is -50 valid? False\n",
    "```"
   ]
  },
  {
   "cell_type": "code",
   "execution_count": null,
   "id": "g7h8i9j0",
   "metadata": {},
   "outputs": [],
   "source": [
    "# Test your code here\n",
    "# Create accounts\n",
    "# Perform transactions\n",
    "# Change bank name\n",
    "# Print accounts\n",
    "# Validate amounts"
   ]
  },
  {
   "cell_type": "markdown",
   "id": "k1l2m3n4",
   "metadata": {},
   "source": [
    "### 📝 Task 5: Add Transaction History\n",
    "Implement a `show_transactions()` method that prints all transactions\n",
    "\n",
    "**Template:**"
   ]
  },
  {
   "cell_type": "code",
   "execution_count": null,
   "id": "o5p6q7r8",
   "metadata": {},
   "outputs": [],
   "source": [
    " def show_transactions(self) -> None:\n",
    "        # Print all transactions\n",
    "        pass"
   ]
  },
  {
   "cell_type": "markdown",
   "id": "s9t0u1v2",
   "metadata": {},
   "source": [
    "### 📝 Task 6: Create SavingsAccount Subclass\n",
    "Create a `SavingsAccount` that:\n",
    "1. Inherits from BankAccount\n",
    "2. Adds `interest_rate` attribute\n",
    "3. Has `add_interest()` method\n",
    "4. Overrides `__str__` to include interest rate\n",
    "\n",
    "**Template:**"
   ]
  },
  {
   "cell_type": "code",
   "execution_count": null,
   "id": "w3x4y5z6",
   "metadata": {},
   "outputs": [],
   "source": [
    "class SavingsAccount(BankAccount):\n",
    "    def __init__(self, account_holder: str, initial_balance: float = 0.0, interest_rate: float = 0.01):\n",
    "        # Initialize parent class and add new attribute\n",
    "        pass\n",
    "    \n",
    "    def add_interest(self) -> None:\n",
    "        # Calculate and deposit interest\n",
    "        pass\n",
    "    \n",
    "    def __str__(self) -> str:\n",
    "        # Enhanced string representation\n",
    "        pass"
   ]
  },
  {
   "cell_type": "markdown",
   "id": "a7b8c9d0",
   "metadata": {},
   "source": [
    "### 📝 Task 7: Test SavingsAccount\n",
    "1. Create savings account\n",
    "2. Deposit money\n",
    "3. Add interest\n",
    "4. Print account info\n",
    "\n",
    "**Expected Output Example:**\n",
    "```\n",
    "Savings Account - Account Holder: Charlie, Balance: $1050.0, Interest Rate: 5.0%\n",
    "```"
   ]
  },
  {
   "cell_type": "code",
   "execution_count": 1,
   "id": "e1f2g3h4",
   "metadata": {},
   "outputs": [
    {
     "name": "stdout",
     "output_type": "stream",
     "text": [
      "$200 deposited. New balance: $1200\n",
      "$50 withdrawn. New balance: $1150\n",
      "Invalid withdrawal amount or insufficient funds\n",
      "Transaction History:\n",
      "Deposit: +$200\n",
      "Withdrawal: -$50\n",
      "Account Holder: Alice, Balance: $1150\n",
      "Is -50 valid? False\n",
      "Bank name changed to Global Bank\n",
      "$50 deposited. New balance: $1050\n",
      "$52.5 deposited. New balance: $1102.5\n",
      "Interest of $52.5 added at rate 5.0%\n",
      "Savings Account - Account Holder: Charlie, Balance: $1102.5, Interest Rate: 5.0%\n",
      "Transaction History:\n",
      "Deposit: +$50\n",
      "Deposit: +$52.5\n"
     ]
    }
   ],
   "source": [
    "# Test SavingsAccount here\n",
    "class BankAccount:\n",
    "    # Class attribute\n",
    "    bank_name = \"First National Bank\"\n",
    "    \n",
    "    def __init__(self, account_holder: str, initial_balance: float = 0.0):\n",
    "        self.account_holder = account_holder\n",
    "        self.balance = initial_balance\n",
    "        self.transactions = []\n",
    "    \n",
    "    def deposit(self, amount: float) -> None:\n",
    "        if self.validate_amount(amount):\n",
    "            self.balance += amount\n",
    "            self.transactions.append(f\"Deposit: +${amount}\")\n",
    "            print(f\"${amount} deposited. New balance: ${self.balance}\")\n",
    "        else:\n",
    "            print(\"Invalid deposit amount\")\n",
    "    \n",
    "    def withdraw(self, amount: float) -> None:\n",
    "        if self.validate_amount(amount) and amount <= self.balance:\n",
    "            self.balance -= amount\n",
    "            self.transactions.append(f\"Withdrawal: -${amount}\")\n",
    "            print(f\"${amount} withdrawn. New balance: ${self.balance}\")\n",
    "        else:\n",
    "            print(\"Invalid withdrawal amount or insufficient funds\")\n",
    "    \n",
    "    def __str__(self) -> str:\n",
    "        return f\"Account Holder: {self.account_holder}, Balance: ${self.balance}\"\n",
    "    \n",
    "    @classmethod\n",
    "    def change_bank_name(cls, new_name: str) -> None:\n",
    "        cls.bank_name = new_name\n",
    "        print(f\"Bank name changed to {cls.bank_name}\")\n",
    "    \n",
    "    @staticmethod\n",
    "    def validate_amount(amount: float) -> bool:\n",
    "        return amount > 0\n",
    "    \n",
    "    def show_transactions(self) -> None:\n",
    "        if not self.transactions:\n",
    "            print(\"No transactions yet.\")\n",
    "        else:\n",
    "            print(\"Transaction History:\")\n",
    "            for t in self.transactions:\n",
    "                print(t)\n",
    "\n",
    "\n",
    "class SavingsAccount(BankAccount):\n",
    "    def __init__(self, account_holder: str, initial_balance: float = 0.0, interest_rate: float = 0.01):\n",
    "        super().__init__(account_holder, initial_balance)\n",
    "        self.interest_rate = interest_rate\n",
    "    \n",
    "    def add_interest(self) -> None:\n",
    "        interest = self.balance * self.interest_rate\n",
    "        self.deposit(interest)\n",
    "        print(f\"Interest of ${interest} added at rate {self.interest_rate*100}%\")\n",
    "    \n",
    "    def __str__(self) -> str:\n",
    "        return (f\"Savings Account - Account Holder: {self.account_holder}, \"\n",
    "                f\"Balance: ${self.balance}, Interest Rate: {self.interest_rate*100}%\")\n",
    "\n",
    "\n",
    "# ---------------- Test Section ----------------\n",
    "if __name__ == \"__main__\":\n",
    "    # Task 4 - Testing BankAccount\n",
    "    acc1 = BankAccount(\"Alice\", 1000)\n",
    "    acc2 = BankAccount(\"Bob\", 500)\n",
    "    \n",
    "    acc1.deposit(200)\n",
    "    acc1.withdraw(50)\n",
    "    acc1.withdraw(2000)  # Should fail\n",
    "    acc1.show_transactions()\n",
    "    \n",
    "    print(acc1)\n",
    "    print(f\"Is -50 valid? {BankAccount.validate_amount(-50)}\")\n",
    "    \n",
    "    BankAccount.change_bank_name(\"Global Bank\")\n",
    "    \n",
    "    # Task 7 - Testing SavingsAccount\n",
    "    sav_acc = SavingsAccount(\"Charlie\", 1000, 0.05)\n",
    "    sav_acc.deposit(50)\n",
    "    sav_acc.add_interest()\n",
    "    print(sav_acc)\n",
    "    sav_acc.show_transactions()\n"
   ]
  }
 ],
 "metadata": {
  "kernelspec": {
   "display_name": "Python 3",
   "language": "python",
   "name": "python3"
  },
  "language_info": {
   "codemirror_mode": {
    "name": "ipython",
    "version": 3
   },
   "file_extension": ".py",
   "mimetype": "text/x-python",
   "name": "python",
   "nbconvert_exporter": "python",
   "pygments_lexer": "ipython3",
   "version": "3.13.5"
  }
 },
 "nbformat": 4,
 "nbformat_minor": 5
}
