{
 "cells": [
  {
   "cell_type": "markdown",
   "id": "e9fe621d",
   "metadata": {},
   "source": [
    "# Assignment 7: Introduction to APIs\n",
    "\n",
    "**Course:** AbzumsAI Programming 1404\n",
    "\n",
    "**Instructor:** Mr. Ali Mohammadzadeh Shabestari\n",
    "\n",
    "**Date Assigned:** July 25, 2025\n",
    "\n",
    "**Deadline:** TBA"
   ]
  },
  {
   "cell_type": "markdown",
   "id": "167d2459",
   "metadata": {},
   "source": [
    "In this project, you will build a classic Mastermind game that runs in the terminal. The logic of game is implemented and provided via an API. You just need to interact with the API to set up an enviroment for playing the game,\n",
    "\n",
    "This project helps you apply and connect key Python concepts you’ve learned so far:\n",
    "- Working with APIs\n",
    "- Using if/else conditions to check for valid guesses and winning logic\n",
    "- Repeating the game flow with while loops\n",
    "- Organizing your program into reusable functions\n",
    "- Handling user input and basic error checking\n",
    "\n",
    "By the end, you’ll have a complete working game and a strong understanding of how to structure and build Python programs with APIs.\n",
    "\n",
    "📩 Develop your program in one single `.py` file."
   ]
  },
  {
   "cell_type": "markdown",
   "id": "c9149bd0",
   "metadata": {},
   "source": [
    "## 🧩 Step 1: Get Familiar with the API\n",
    "- See the [documentation](https://mastermind.darkube.app/docs/index.html) of the API.\n",
    "- Optional: Try working with some of them in Postman.\n",
    "\n",
    "- For example, you can create a game with the following request:\n",
    "\n",
    "    - `POST` https://mastermind.darkube.app/game\n",
    "\n",
    "    with no params and body.\n",
    "\n",
    "- The response is a `game_id` that will be used for other APIs:\n",
    "    ```json\n",
    "    {\n",
    "        \"game_id\": \"xxxxxxxxxxxx\"\n",
    "    }\n",
    "    ```\n",
    "\n",
    "- You will use only `game` and `guess` endpoints."
   ]
  },
  {
   "cell_type": "markdown",
   "id": "5bc5acd6",
   "metadata": {},
   "source": [
    "## 🧩 Step 2: A Function to Creata a Game\n",
    "\n",
    "- Each time the program runs (or a new game begins), the `start_game()` function makes an API call to initialize a fresh game.\n",
    "\n",
    "- The response includes a unique game_id (returned by the function)."
   ]
  },
  {
   "cell_type": "markdown",
   "id": "ee91cd9a",
   "metadata": {},
   "source": [
    "## 🧩 Step 3: A Function to Submit Guesses to the API\n",
    "\n",
    "- Whenever the player makes a guess, the `send_guess()` function should take that input and forward it to the API.\n",
    "\n",
    "- The API will then check the guess and return feedback on whether it was correct.\n",
    "\n",
    "- Analyze the response to retrieve relevant information (extract data from json)."
   ]
  },
  {
   "cell_type": "markdown",
   "id": "058d1ff0",
   "metadata": {},
   "source": [
    "## 🧩 Step 4: A Function to Prompt Guess\n",
    "\n",
    "- Function Setup:\n",
    "\n",
    "    - Create a function called `prompt_guess()` to manage the player's guess and the API's response.\n",
    "\n",
    "- Game Loop:\n",
    "\n",
    "    - Use a while loop to repeatedly prompt for guesses until the player wins.\n",
    "\n",
    "- Guess Validation:\n",
    "\n",
    "    - Check: Ensure the guess is 4 characters long.\n",
    "\n",
    "    - Check: Verify it only contains digits 1–6 (no other characters).\n",
    "\n",
    "    - Check: Confirm all digits are unique (no duplicates).\n",
    "\n",
    "- Response Handling:\n",
    "\n",
    "    - Display the API’s response in a clear, readable format.\n",
    "\n",
    "    - Check if the response indicates a win—if so, print a victory message and exit."
   ]
  },
  {
   "cell_type": "markdown",
   "id": "b806cf04",
   "metadata": {},
   "source": [
    "## 🧩 Step 5: A Function to Run the Game\n",
    "\n",
    "- The `run_game()` function will serve as the main game controller\n",
    "\n",
    "- It can display introductory messages when starting\n",
    "\n",
    "- This function will call the `prompt_guess()` function to handle player input\n"
   ]
  }
 ],
 "metadata": {
  "language_info": {
   "name": "python"
  }
 },
 "nbformat": 4,
 "nbformat_minor": 5
}
