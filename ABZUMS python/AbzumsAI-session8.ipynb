{
 "cells": [
  {
   "cell_type": "markdown",
   "id": "8a2b4c6d",
   "metadata": {},
   "source": [
    "# Assignment 5: File Handling, Comprehension, Modules\n",
    "\n",
    "**Course:** AbzumsAI Programming 1404\n",
    "\n",
    "**Instructor:** Mr. Ali Mohammadzadeh Shabestari\n",
    "\n",
    "**Date Assigned:** July 16, 2025\n",
    "\n",
    "**Deadline:** July 20, 2025"
   ]
  },
  {
   "cell_type": "markdown",
   "id": "5e3f8a1b",
   "metadata": {},
   "source": [
    "## 🔹 3.1 File Handling"
   ]
  },
  {
   "cell_type": "markdown",
   "id": "d4e5f7a2",
   "metadata": {},
   "source": [
    "### 📝 Task 1: Read a text file\n",
    "\n",
    "Create a text file named 'sample.txt' with some content, then read and print its contents.\n",
    "\n",
    "**Expected Output:**\n",
    "```\n",
    "[Content of your file]\n",
    "```"
   ]
  },
  {
   "cell_type": "code",
   "execution_count": null,
   "id": "b3c8d9f1",
   "metadata": {},
   "outputs": [
    {
     "ename": "FileNotFoundError",
     "evalue": "[Errno 2] No such file or directory: 'sample.txt'",
     "output_type": "error",
     "traceback": [
      "\u001b[31m---------------------------------------------------------------------------\u001b[39m",
      "\u001b[31mFileNotFoundError\u001b[39m                         Traceback (most recent call last)",
      "\u001b[36mCell\u001b[39m\u001b[36m \u001b[39m\u001b[32mIn[2]\u001b[39m\u001b[32m, line 2\u001b[39m\n\u001b[32m      1\u001b[39m \u001b[38;5;66;03m# write your code here\u001b[39;00m\n\u001b[32m----> \u001b[39m\u001b[32m2\u001b[39m \u001b[38;5;28;01mwith\u001b[39;00m \u001b[38;5;28;43mopen\u001b[39;49m\u001b[43m(\u001b[49m\u001b[33;43m\"\u001b[39;49m\u001b[33;43msample.txt\u001b[39;49m\u001b[33;43m\"\u001b[39;49m\u001b[43m,\u001b[49m\u001b[43m \u001b[49m\u001b[33;43m\"\u001b[39;49m\u001b[33;43mr\u001b[39;49m\u001b[33;43m\"\u001b[39;49m\u001b[43m)\u001b[49m \u001b[38;5;28;01mas\u001b[39;00m file:\n\u001b[32m      3\u001b[39m     content = file.read()\n\u001b[32m      4\u001b[39m     \u001b[38;5;28mprint\u001b[39m(content)\n",
      "\u001b[36mFile \u001b[39m\u001b[32m~\\AppData\\Roaming\\Python\\Python313\\site-packages\\IPython\\core\\interactiveshell.py:343\u001b[39m, in \u001b[36m_modified_open\u001b[39m\u001b[34m(file, *args, **kwargs)\u001b[39m\n\u001b[32m    336\u001b[39m \u001b[38;5;28;01mif\u001b[39;00m file \u001b[38;5;129;01min\u001b[39;00m {\u001b[32m0\u001b[39m, \u001b[32m1\u001b[39m, \u001b[32m2\u001b[39m}:\n\u001b[32m    337\u001b[39m     \u001b[38;5;28;01mraise\u001b[39;00m \u001b[38;5;167;01mValueError\u001b[39;00m(\n\u001b[32m    338\u001b[39m         \u001b[33mf\u001b[39m\u001b[33m\"\u001b[39m\u001b[33mIPython won\u001b[39m\u001b[33m'\u001b[39m\u001b[33mt let you open fd=\u001b[39m\u001b[38;5;132;01m{\u001b[39;00mfile\u001b[38;5;132;01m}\u001b[39;00m\u001b[33m by default \u001b[39m\u001b[33m\"\u001b[39m\n\u001b[32m    339\u001b[39m         \u001b[33m\"\u001b[39m\u001b[33mas it is likely to crash IPython. If you know what you are doing, \u001b[39m\u001b[33m\"\u001b[39m\n\u001b[32m    340\u001b[39m         \u001b[33m\"\u001b[39m\u001b[33myou can use builtins\u001b[39m\u001b[33m'\u001b[39m\u001b[33m open.\u001b[39m\u001b[33m\"\u001b[39m\n\u001b[32m    341\u001b[39m     )\n\u001b[32m--> \u001b[39m\u001b[32m343\u001b[39m \u001b[38;5;28;01mreturn\u001b[39;00m \u001b[43mio_open\u001b[49m\u001b[43m(\u001b[49m\u001b[43mfile\u001b[49m\u001b[43m,\u001b[49m\u001b[43m \u001b[49m\u001b[43m*\u001b[49m\u001b[43margs\u001b[49m\u001b[43m,\u001b[49m\u001b[43m \u001b[49m\u001b[43m*\u001b[49m\u001b[43m*\u001b[49m\u001b[43mkwargs\u001b[49m\u001b[43m)\u001b[49m\n",
      "\u001b[31mFileNotFoundError\u001b[39m: [Errno 2] No such file or directory: 'sample.txt'"
     ]
    }
   ],
   "source": [
    "# write your code here\n",
    "# 3.1 Task 1: Read a text file\n",
    "with open(\"sample.txt\", \"r\") as file:\n",
    "    content = file.read()\n",
    "    print(content)\n"
   ]
  },
  {
   "cell_type": "markdown",
   "id": "e5f6g7h8",
   "metadata": {},
   "source": [
    "### 📝 Task 2: Write to a CSV file\n",
    "\n",
    "Create a CSV file named 'data.csv' and write the following data:\n",
    "```\n",
    "Name,Age,Occupation\n",
    "Alice,30,Engineer\n",
    "Bob,25,Designer\n",
    "```"
   ]
  },
  {
   "cell_type": "code",
   "execution_count": null,
   "id": "i9j0k1l2",
   "metadata": {},
   "outputs": [],
   "source": [
    "# write your code here\n",
    "import csv\n",
    "\n",
    "with open(\"data.csv\", \"w\", newline=\"\") as csvfile:\n",
    "    writer = csv.writer(csvfile)\n",
    "    writer.writerow([\"Name\", \"Age\", \"Occupation\"])\n",
    "    writer.writerow([\"Alice\", 30, \"Engineer\"])\n",
    "    writer.writerow([\"Bob\", 25, \"Designer\"])"
   ]
  },
  {
   "cell_type": "markdown",
   "id": "q7r8s9t0",
   "metadata": {},
   "source": [
    "### 📝 Task 3: JSON file operations\n",
    "\n",
    "Create a dictionary, save it to a JSON file named 'config.json', then read it back and print it.\n",
    "\n",
    "**Expected Output:**\n",
    "```\n",
    "{'name': 'Test', 'value': 42}\n",
    "```"
   ]
  },
  {
   "cell_type": "code",
   "execution_count": null,
   "id": "u1v2w3x4",
   "metadata": {},
   "outputs": [],
   "source": [
    "# write your code here\n",
    "import json\n",
    "\n",
    "data = {\"name\": \"Test\", \"value\": 42}\n",
    "\n",
    "# Write to JSON\n",
    "with open(\"config.json\", \"w\") as json_file:\n",
    "    json.dump(data, json_file)\n",
    "\n",
    "# Read back and print\n",
    "with open(\"config.json\", \"r\") as json_file:\n",
    "    read_data = json.load(json_file)\n",
    "    print(read_data)"
   ]
  },
  {
   "cell_type": "markdown",
   "id": "c9d8e7f6",
   "metadata": {},
   "source": [
    "## 🔹 3.2 Comprehensions"
   ]
  },
  {
   "cell_type": "markdown",
   "id": "g5h4i3j2",
   "metadata": {},
   "source": [
    "### 📝 Task 1: List comprehension\n",
    "\n",
    "Create a list of squares for numbers 0 through 9 using list comprehension.\n",
    "\n",
    "**Expected Output:**\n",
    "```\n",
    "[0, 1, 4, 9, 16, 25, 36, 49, 64, 81]\n",
    "```"
   ]
  },
  {
   "cell_type": "code",
   "execution_count": null,
   "id": "k1l2m3n4",
   "metadata": {},
   "outputs": [],
   "source": [
    "# write your code here\n",
    "squares = [x**2 for x in range(10)]\n",
    "print(squares)"
   ]
  },
  {
   "cell_type": "markdown",
   "id": "s9t0u1v2",
   "metadata": {},
   "source": [
    "### 📝 Task 2: Dictionary comprehension\n",
    "\n",
    "Create a dictionary where keys are numbers 1 through 5 and values are their cubes.\n",
    "\n",
    "**Expected Output:**\n",
    "```\n",
    "{1: 1, 2: 8, 3: 27, 4: 64, 5: 125}\n",
    "```"
   ]
  },
  {
   "cell_type": "code",
   "execution_count": null,
   "id": "w3x4y5z6",
   "metadata": {},
   "outputs": [],
   "source": [
    "# write your code here\n",
    "cubes = {x: x**3 for x in range(1,6)}\n",
    "print(cubes)"
   ]
  },
  {
   "cell_type": "markdown",
   "id": "e1f2g3h4",
   "metadata": {},
   "source": [
    "### 📝 Task 3: Filtered list comprehension\n",
    "\n",
    "Create a list of even numbers from 0 to 20 using list comprehension with a condition.\n",
    "\n",
    "**Expected Output:**\n",
    "```\n",
    "[0, 2, 4, 6, 8, 10, 12, 14, 16, 18, 20]\n",
    "```"
   ]
  },
  {
   "cell_type": "code",
   "execution_count": null,
   "id": "i5j6k7l8",
   "metadata": {},
   "outputs": [],
   "source": [
    "# write your code here\n",
    "evens = [x for x in range(21) if x % 2 == 0]\n",
    "print(evens)"
   ]
  },
  {
   "cell_type": "markdown",
   "id": "m9n0o1p2",
   "metadata": {},
   "source": [
    "<details>\n",
    "<summary>🔍 Click to reveal the solution</summary>\n",
    "\n",
    "```python\n",
    "evens = [x for x in range(21) if x % 2 == 0]\n",
    "print(evens)\n",
    "```\n",
    "\n",
    "</details>"
   ]
  },
  {
   "cell_type": "markdown",
   "id": "q3r4s5t6",
   "metadata": {},
   "source": [
    "## 🔹 3.3 Modules and Packages"
   ]
  },
  {
   "cell_type": "markdown",
   "id": "u7v8w9x0",
   "metadata": {},
   "source": [
    "### 📝 Task 1: Import a module\n",
    "\n",
    "Import the math module and calculate the square root of 16.\n",
    "\n",
    "**Expected Output:**\n",
    "```\n",
    "4.0\n",
    "```"
   ]
  },
  {
   "cell_type": "code",
   "execution_count": null,
   "id": "y1z2a3b4",
   "metadata": {},
   "outputs": [],
   "source": [
    "# write your code here\n",
    "import math\n",
    "print(math.sqrt(16))"
   ]
  },
  {
   "cell_type": "markdown",
   "id": "g9h0i1j2",
   "metadata": {},
   "source": [
    "### 📝 Task 2: Import specific function\n",
    "\n",
    "From the random module, import the randint function and generate a random number between 1 and 10.\n",
    "\n",
    "**Note:** Output will vary as it's random."
   ]
  },
  {
   "cell_type": "code",
   "execution_count": null,
   "id": "k3l4m5n6",
   "metadata": {},
   "outputs": [],
   "source": [
    "# write your code here\n",
    "from random import randint\n",
    "print(randint(1,10))"
   ]
  },
  {
   "cell_type": "markdown",
   "id": "s1t2u3v4",
   "metadata": {},
   "source": [
    "### 📝 Task 3: Create and import your own module\n",
    "\n",
    "1. Create a file named `mymodule.py` with a function `greet(name)` that returns \"Hello, [name]!\"\n",
    "2. Import and use this function in your notebook.\n",
    "\n",
    "**Expected Output:**\n",
    "```\n",
    "Hello, Alice!\n",
    "```"
   ]
  },
  {
   "cell_type": "code",
   "execution_count": 5,
   "id": "w5x6y7z8",
   "metadata": {},
   "outputs": [
    {
     "ename": "ModuleNotFoundError",
     "evalue": "No module named 'mymodule'",
     "output_type": "error",
     "traceback": [
      "\u001b[31m---------------------------------------------------------------------------\u001b[39m",
      "\u001b[31mModuleNotFoundError\u001b[39m                       Traceback (most recent call last)",
      "\u001b[36mCell\u001b[39m\u001b[36m \u001b[39m\u001b[32mIn[5]\u001b[39m\u001b[32m, line 2\u001b[39m\n\u001b[32m      1\u001b[39m \u001b[38;5;66;03m# write your code here\u001b[39;00m\n\u001b[32m----> \u001b[39m\u001b[32m2\u001b[39m \u001b[38;5;28;01mfrom\u001b[39;00m\u001b[38;5;250m \u001b[39m\u001b[34;01mmymodule\u001b[39;00m\u001b[38;5;250m \u001b[39m\u001b[38;5;28;01mimport\u001b[39;00m greet\n\u001b[32m      3\u001b[39m \u001b[38;5;28mprint\u001b[39m(greet(\u001b[33m\"\u001b[39m\u001b[33mAlice\u001b[39m\u001b[33m\"\u001b[39m))\n",
      "\u001b[31mModuleNotFoundError\u001b[39m: No module named 'mymodule'"
     ]
    }
   ],
   "source": [
    "# write your code here\n",
    "from mymodule import greet\n",
    "print(greet(\"Alice\"))"
   ]
  },
  {
   "cell_type": "markdown",
   "id": "e3f4g5h6",
   "metadata": {},
   "source": [
    "### 📝 Task 4: Package import\n",
    "\n",
    "Import the datetime module and print the current date in the format: YYYY-MM-DD.\n",
    "\n",
    "**Note:** Output will vary based on current date."
   ]
  },
  {
   "cell_type": "code",
   "execution_count": 3,
   "id": "i7j8k9l0",
   "metadata": {},
   "outputs": [
    {
     "name": "stdout",
     "output_type": "stream",
     "text": [
      "2025-08-14\n"
     ]
    }
   ],
   "source": [
    "# write your code here\n",
    "import datetime\n",
    "print(datetime.date.today())"
   ]
  }
 ],
 "metadata": {
  "kernelspec": {
   "display_name": "Python 3",
   "language": "python",
   "name": "python3"
  },
  "language_info": {
   "codemirror_mode": {
    "name": "ipython",
    "version": 3
   },
   "file_extension": ".py",
   "mimetype": "text/x-python",
   "name": "python",
   "nbconvert_exporter": "python",
   "pygments_lexer": "ipython3",
   "version": "3.13.5"
  }
 },
 "nbformat": 4,
 "nbformat_minor": 5
}
